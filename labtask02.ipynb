{
 "cells": [
  {
   "cell_type": "markdown",
   "metadata": {},
   "source": [
    "in the provided dataset, we have some past bank loan statistical data, and we need to come up with a model based on this data that can tell us whether or not someone's loan will be approved or not.\n",
    "\n",
    "right now, we just need to do exploratory data analysis on this dataset"
   ]
  },
  {
   "cell_type": "code",
   "execution_count": null,
   "metadata": {},
   "outputs": [
    {
     "ename": "",
     "evalue": "",
     "output_type": "error",
     "traceback": [
      "\u001b[1;31mFailed to start the Kernel. \n",
      "\u001b[1;31mUnable to start Kernel 'deeplearning (Python 3.11.7)' due to a connection timeout. \n",
      "\u001b[1;31mView Jupyter <a href='command:jupyter.viewOutput'>log</a> for further details."
     ]
    }
   ],
   "source": [
    "# importing libraries\n",
    "\n",
    "import pandas as pd\n",
    "import matplotlib.pyplot as plt\n",
    "import seaborn as sns\n",
    "print(\"imported\")"
   ]
  },
  {
   "cell_type": "code",
   "execution_count": null,
   "metadata": {},
   "outputs": [
    {
     "ename": "",
     "evalue": "",
     "output_type": "error",
     "traceback": [
      "\u001b[1;31mFailed to start the Kernel. \n",
      "\u001b[1;31mUnable to start Kernel 'deeplearning (Python 3.11.7)' due to a connection timeout. \n",
      "\u001b[1;31mView Jupyter <a href='command:jupyter.viewOutput'>log</a> for further details."
     ]
    }
   ],
   "source": [
    "# reading the csv file\n",
    "\n",
    "df = pd.read_csv('loangrant.csv')\n",
    "df.head()"
   ]
  },
  {
   "cell_type": "code",
   "execution_count": null,
   "metadata": {},
   "outputs": [
    {
     "ename": "",
     "evalue": "",
     "output_type": "error",
     "traceback": [
      "\u001b[1;31mFailed to start the Kernel. \n",
      "\u001b[1;31mUnable to start Kernel 'deeplearning (Python 3.11.7)' due to a connection timeout. \n",
      "\u001b[1;31mView Jupyter <a href='command:jupyter.viewOutput'>log</a> for further details."
     ]
    }
   ],
   "source": [
    "print(len(df.columns))"
   ]
  },
  {
   "cell_type": "code",
   "execution_count": null,
   "metadata": {},
   "outputs": [
    {
     "ename": "",
     "evalue": "",
     "output_type": "error",
     "traceback": [
      "\u001b[1;31mFailed to start the Kernel. \n",
      "\u001b[1;31mUnable to start Kernel 'deeplearning (Python 3.11.7)' due to a connection timeout. \n",
      "\u001b[1;31mView Jupyter <a href='command:jupyter.viewOutput'>log</a> for further details."
     ]
    }
   ],
   "source": [
    "df.info()"
   ]
  },
  {
   "cell_type": "code",
   "execution_count": null,
   "metadata": {},
   "outputs": [
    {
     "ename": "",
     "evalue": "",
     "output_type": "error",
     "traceback": [
      "\u001b[1;31mFailed to start the Kernel. \n",
      "\u001b[1;31mUnable to start Kernel 'deeplearning (Python 3.11.7)' due to a connection timeout. \n",
      "\u001b[1;31mView Jupyter <a href='command:jupyter.viewOutput'>log</a> for further details."
     ]
    }
   ],
   "source": [
    "df.describe() # for numerical data"
   ]
  },
  {
   "cell_type": "code",
   "execution_count": null,
   "metadata": {},
   "outputs": [
    {
     "ename": "",
     "evalue": "",
     "output_type": "error",
     "traceback": [
      "\u001b[1;31mFailed to start the Kernel. \n",
      "\u001b[1;31mUnable to start Kernel 'deeplearning (Python 3.11.7)' due to a connection timeout. \n",
      "\u001b[1;31mView Jupyter <a href='command:jupyter.viewOutput'>log</a> for further details."
     ]
    }
   ],
   "source": [
    "# for non-numerical data\n",
    "df.describe(include='object')"
   ]
  },
  {
   "cell_type": "markdown",
   "metadata": {},
   "source": [
    "# exploring the data"
   ]
  },
  {
   "cell_type": "code",
   "execution_count": null,
   "metadata": {},
   "outputs": [
    {
     "ename": "",
     "evalue": "",
     "output_type": "error",
     "traceback": [
      "\u001b[1;31mFailed to start the Kernel. \n",
      "\u001b[1;31mUnable to start Kernel 'deeplearning (Python 3.11.7)' due to a connection timeout. \n",
      "\u001b[1;31mView Jupyter <a href='command:jupyter.viewOutput'>log</a> for further details."
     ]
    }
   ],
   "source": [
    "df.columns"
   ]
  },
  {
   "cell_type": "markdown",
   "metadata": {},
   "source": [
    "## Loan ID"
   ]
  },
  {
   "cell_type": "code",
   "execution_count": null,
   "metadata": {},
   "outputs": [
    {
     "ename": "",
     "evalue": "",
     "output_type": "error",
     "traceback": [
      "\u001b[1;31mFailed to start the Kernel. \n",
      "\u001b[1;31mUnable to start Kernel 'deeplearning (Python 3.11.7)' due to a connection timeout. \n",
      "\u001b[1;31mView Jupyter <a href='command:jupyter.viewOutput'>log</a> for further details."
     ]
    }
   ],
   "source": [
    "df[\"Loan ID\"].describe()"
   ]
  },
  {
   "cell_type": "code",
   "execution_count": null,
   "metadata": {},
   "outputs": [
    {
     "ename": "",
     "evalue": "",
     "output_type": "error",
     "traceback": [
      "\u001b[1;31mFailed to start the Kernel. \n",
      "\u001b[1;31mUnable to start Kernel 'deeplearning (Python 3.11.7)' due to a connection timeout. \n",
      "\u001b[1;31mView Jupyter <a href='command:jupyter.viewOutput'>log</a> for further details."
     ]
    }
   ],
   "source": [
    "df[\"Loan ID\"].value_counts()"
   ]
  },
  {
   "cell_type": "markdown",
   "metadata": {},
   "source": [
    "## Customer ID"
   ]
  },
  {
   "cell_type": "code",
   "execution_count": null,
   "metadata": {},
   "outputs": [
    {
     "ename": "",
     "evalue": "",
     "output_type": "error",
     "traceback": [
      "\u001b[1;31mFailed to start the Kernel. \n",
      "\u001b[1;31mUnable to start Kernel 'deeplearning (Python 3.11.7)' due to a connection timeout. \n",
      "\u001b[1;31mView Jupyter <a href='command:jupyter.viewOutput'>log</a> for further details."
     ]
    }
   ],
   "source": [
    "df[\"Customer ID\"].describe()"
   ]
  },
  {
   "cell_type": "code",
   "execution_count": null,
   "metadata": {},
   "outputs": [
    {
     "ename": "",
     "evalue": "",
     "output_type": "error",
     "traceback": [
      "\u001b[1;31mFailed to start the Kernel. \n",
      "\u001b[1;31mUnable to start Kernel 'deeplearning (Python 3.11.7)' due to a connection timeout. \n",
      "\u001b[1;31mView Jupyter <a href='command:jupyter.viewOutput'>log</a> for further details."
     ]
    }
   ],
   "source": [
    "df[\"Customer ID\"].value_counts()"
   ]
  },
  {
   "cell_type": "markdown",
   "metadata": {},
   "source": [
    "## Loan Status"
   ]
  },
  {
   "cell_type": "code",
   "execution_count": null,
   "metadata": {},
   "outputs": [
    {
     "ename": "",
     "evalue": "",
     "output_type": "error",
     "traceback": [
      "\u001b[1;31mFailed to start the Kernel. \n",
      "\u001b[1;31mUnable to start Kernel 'deeplearning (Python 3.11.7)' due to a connection timeout. \n",
      "\u001b[1;31mView Jupyter <a href='command:jupyter.viewOutput'>log</a> for further details."
     ]
    }
   ],
   "source": [
    "df[\"Loan Status\"].describe()    "
   ]
  },
  {
   "cell_type": "code",
   "execution_count": null,
   "metadata": {},
   "outputs": [
    {
     "ename": "",
     "evalue": "",
     "output_type": "error",
     "traceback": [
      "\u001b[1;31mFailed to start the Kernel. \n",
      "\u001b[1;31mUnable to start Kernel 'deeplearning (Python 3.11.7)' due to a connection timeout. \n",
      "\u001b[1;31mView Jupyter <a href='command:jupyter.viewOutput'>log</a> for further details."
     ]
    }
   ],
   "source": [
    "df[\"Loan Status\"].value_counts()\n"
   ]
  },
  {
   "cell_type": "markdown",
   "metadata": {},
   "source": [
    "fully paid loan: amount has been fully paid <br>\n",
    "charged off: amount has not been paid and has been written off as a loss"
   ]
  },
  {
   "cell_type": "code",
   "execution_count": null,
   "metadata": {},
   "outputs": [
    {
     "ename": "",
     "evalue": "",
     "output_type": "error",
     "traceback": [
      "\u001b[1;31mFailed to start the Kernel. \n",
      "\u001b[1;31mUnable to start Kernel 'deeplearning (Python 3.11.7)' due to a connection timeout. \n",
      "\u001b[1;31mView Jupyter <a href='command:jupyter.viewOutput'>log</a> for further details."
     ]
    }
   ],
   "source": [
    "sns.countplot(\n",
    "    data=df,\n",
    "    x=\"Loan Status\",\n",
    "    palette=\"Pastel1\"\n",
    ")\n",
    "plt.title(\"Loan Status\")\n",
    "plt.show()"
   ]
  },
  {
   "cell_type": "markdown",
   "metadata": {},
   "source": [
    "## Current Loan Amount\n",
    "\n",
    "Current Loan Amount: This is the loan amount that was either completely paid\n",
    "off, or the amount that was defaulted."
   ]
  },
  {
   "cell_type": "code",
   "execution_count": null,
   "metadata": {},
   "outputs": [
    {
     "ename": "",
     "evalue": "",
     "output_type": "error",
     "traceback": [
      "\u001b[1;31mFailed to start the Kernel. \n",
      "\u001b[1;31mUnable to start Kernel 'deeplearning (Python 3.11.7)' due to a connection timeout. \n",
      "\u001b[1;31mView Jupyter <a href='command:jupyter.viewOutput'>log</a> for further details."
     ]
    }
   ],
   "source": [
    "df[\"Current Loan Amount\"].describe()"
   ]
  },
  {
   "cell_type": "code",
   "execution_count": 17,
   "metadata": {},
   "outputs": [
    {
     "ename": "KeyboardInterrupt",
     "evalue": "",
     "output_type": "error",
     "traceback": [
      "\u001b[1;31m---------------------------------------------------------------------------\u001b[0m",
      "\u001b[1;31mKeyboardInterrupt\u001b[0m                         Traceback (most recent call last)",
      "Cell \u001b[1;32mIn[17], line 1\u001b[0m\n\u001b[1;32m----> 1\u001b[0m sns\u001b[38;5;241m.\u001b[39mdisplot(\n\u001b[0;32m      2\u001b[0m     data\u001b[38;5;241m=\u001b[39mdf[\u001b[38;5;124m\"\u001b[39m\u001b[38;5;124mCurrent Loan Amount\u001b[39m\u001b[38;5;124m\"\u001b[39m],\n\u001b[0;32m      3\u001b[0m     color\u001b[38;5;241m=\u001b[39m\u001b[38;5;124m\"\u001b[39m\u001b[38;5;124mpink\u001b[39m\u001b[38;5;124m\"\u001b[39m\n\u001b[0;32m      4\u001b[0m )\n\u001b[0;32m      5\u001b[0m plt\u001b[38;5;241m.\u001b[39mtitle(\u001b[38;5;124m\"\u001b[39m\u001b[38;5;124mCurrent Loan Amount\u001b[39m\u001b[38;5;124m\"\u001b[39m)    \n\u001b[0;32m      6\u001b[0m plt\u001b[38;5;241m.\u001b[39mshow()\n",
      "File \u001b[1;32mc:\\Users\\izza\\anaconda3\\Lib\\site-packages\\seaborn\\distributions.py:2210\u001b[0m, in \u001b[0;36mdisplot\u001b[1;34m(data, x, y, hue, row, col, weights, kind, rug, rug_kws, log_scale, legend, palette, hue_order, hue_norm, color, col_wrap, row_order, col_order, height, aspect, facet_kws, **kwargs)\u001b[0m\n\u001b[0;32m   2207\u001b[0m \u001b[38;5;28;01mif\u001b[39;00m p\u001b[38;5;241m.\u001b[39munivariate:\n\u001b[0;32m   2209\u001b[0m     _assign_default_kwargs(hist_kws, p\u001b[38;5;241m.\u001b[39mplot_univariate_histogram, histplot)\n\u001b[1;32m-> 2210\u001b[0m     p\u001b[38;5;241m.\u001b[39mplot_univariate_histogram(\u001b[38;5;241m*\u001b[39m\u001b[38;5;241m*\u001b[39mhist_kws)\n\u001b[0;32m   2212\u001b[0m \u001b[38;5;28;01melse\u001b[39;00m:\n\u001b[0;32m   2214\u001b[0m     _assign_default_kwargs(hist_kws, p\u001b[38;5;241m.\u001b[39mplot_bivariate_histogram, histplot)\n",
      "File \u001b[1;32mc:\\Users\\izza\\anaconda3\\Lib\\site-packages\\seaborn\\distributions.py:575\u001b[0m, in \u001b[0;36m_DistributionPlotter.plot_univariate_histogram\u001b[1;34m(self, multiple, element, fill, common_norm, common_bins, shrink, kde, kde_kws, color, legend, line_kws, estimate_kws, **plot_kws)\u001b[0m\n\u001b[0;32m    570\u001b[0m \u001b[38;5;28;01mif\u001b[39;00m element \u001b[38;5;241m==\u001b[39m \u001b[38;5;124m\"\u001b[39m\u001b[38;5;124mbars\u001b[39m\u001b[38;5;124m\"\u001b[39m:\n\u001b[0;32m    571\u001b[0m \n\u001b[0;32m    572\u001b[0m     \u001b[38;5;66;03m# Use matplotlib bar plotting\u001b[39;00m\n\u001b[0;32m    574\u001b[0m     plot_func \u001b[38;5;241m=\u001b[39m ax\u001b[38;5;241m.\u001b[39mbar \u001b[38;5;28;01mif\u001b[39;00m \u001b[38;5;28mself\u001b[39m\u001b[38;5;241m.\u001b[39mdata_variable \u001b[38;5;241m==\u001b[39m \u001b[38;5;124m\"\u001b[39m\u001b[38;5;124mx\u001b[39m\u001b[38;5;124m\"\u001b[39m \u001b[38;5;28;01melse\u001b[39;00m ax\u001b[38;5;241m.\u001b[39mbarh\n\u001b[1;32m--> 575\u001b[0m     artists \u001b[38;5;241m=\u001b[39m plot_func(\n\u001b[0;32m    576\u001b[0m         hist[\u001b[38;5;124m\"\u001b[39m\u001b[38;5;124medges\u001b[39m\u001b[38;5;124m\"\u001b[39m],\n\u001b[0;32m    577\u001b[0m         hist[\u001b[38;5;124m\"\u001b[39m\u001b[38;5;124mheights\u001b[39m\u001b[38;5;124m\"\u001b[39m] \u001b[38;5;241m-\u001b[39m bottom,\n\u001b[0;32m    578\u001b[0m         hist[\u001b[38;5;124m\"\u001b[39m\u001b[38;5;124mwidths\u001b[39m\u001b[38;5;124m\"\u001b[39m],\n\u001b[0;32m    579\u001b[0m         bottom,\n\u001b[0;32m    580\u001b[0m         align\u001b[38;5;241m=\u001b[39m\u001b[38;5;124m\"\u001b[39m\u001b[38;5;124medge\u001b[39m\u001b[38;5;124m\"\u001b[39m,\n\u001b[0;32m    581\u001b[0m         \u001b[38;5;241m*\u001b[39m\u001b[38;5;241m*\u001b[39martist_kws,\n\u001b[0;32m    582\u001b[0m     )\n\u001b[0;32m    584\u001b[0m     \u001b[38;5;28;01mfor\u001b[39;00m bar \u001b[38;5;129;01min\u001b[39;00m artists:\n\u001b[0;32m    585\u001b[0m         \u001b[38;5;28;01mif\u001b[39;00m \u001b[38;5;28mself\u001b[39m\u001b[38;5;241m.\u001b[39mdata_variable \u001b[38;5;241m==\u001b[39m \u001b[38;5;124m\"\u001b[39m\u001b[38;5;124mx\u001b[39m\u001b[38;5;124m\"\u001b[39m:\n",
      "File \u001b[1;32mc:\\Users\\izza\\anaconda3\\Lib\\site-packages\\matplotlib\\__init__.py:1446\u001b[0m, in \u001b[0;36m_preprocess_data.<locals>.inner\u001b[1;34m(ax, data, *args, **kwargs)\u001b[0m\n\u001b[0;32m   1443\u001b[0m \u001b[38;5;129m@functools\u001b[39m\u001b[38;5;241m.\u001b[39mwraps(func)\n\u001b[0;32m   1444\u001b[0m \u001b[38;5;28;01mdef\u001b[39;00m \u001b[38;5;21minner\u001b[39m(ax, \u001b[38;5;241m*\u001b[39margs, data\u001b[38;5;241m=\u001b[39m\u001b[38;5;28;01mNone\u001b[39;00m, \u001b[38;5;241m*\u001b[39m\u001b[38;5;241m*\u001b[39mkwargs):\n\u001b[0;32m   1445\u001b[0m     \u001b[38;5;28;01mif\u001b[39;00m data \u001b[38;5;129;01mis\u001b[39;00m \u001b[38;5;28;01mNone\u001b[39;00m:\n\u001b[1;32m-> 1446\u001b[0m         \u001b[38;5;28;01mreturn\u001b[39;00m func(ax, \u001b[38;5;241m*\u001b[39m\u001b[38;5;28mmap\u001b[39m(sanitize_sequence, args), \u001b[38;5;241m*\u001b[39m\u001b[38;5;241m*\u001b[39mkwargs)\n\u001b[0;32m   1448\u001b[0m     bound \u001b[38;5;241m=\u001b[39m new_sig\u001b[38;5;241m.\u001b[39mbind(ax, \u001b[38;5;241m*\u001b[39margs, \u001b[38;5;241m*\u001b[39m\u001b[38;5;241m*\u001b[39mkwargs)\n\u001b[0;32m   1449\u001b[0m     auto_label \u001b[38;5;241m=\u001b[39m (bound\u001b[38;5;241m.\u001b[39marguments\u001b[38;5;241m.\u001b[39mget(label_namer)\n\u001b[0;32m   1450\u001b[0m                   \u001b[38;5;129;01mor\u001b[39;00m bound\u001b[38;5;241m.\u001b[39mkwargs\u001b[38;5;241m.\u001b[39mget(label_namer))\n",
      "File \u001b[1;32mc:\\Users\\izza\\anaconda3\\Lib\\site-packages\\matplotlib\\axes\\_axes.py:2486\u001b[0m, in \u001b[0;36mAxes.bar\u001b[1;34m(self, x, height, width, bottom, align, **kwargs)\u001b[0m\n\u001b[0;32m   2484\u001b[0m     \u001b[38;5;28;01melse\u001b[39;00m:  \u001b[38;5;66;03m# horizontal\u001b[39;00m\n\u001b[0;32m   2485\u001b[0m         r\u001b[38;5;241m.\u001b[39msticky_edges\u001b[38;5;241m.\u001b[39mx\u001b[38;5;241m.\u001b[39mappend(l)\n\u001b[1;32m-> 2486\u001b[0m     \u001b[38;5;28mself\u001b[39m\u001b[38;5;241m.\u001b[39madd_patch(r)\n\u001b[0;32m   2487\u001b[0m     patches\u001b[38;5;241m.\u001b[39mappend(r)\n\u001b[0;32m   2489\u001b[0m \u001b[38;5;28;01mif\u001b[39;00m xerr \u001b[38;5;129;01mis\u001b[39;00m \u001b[38;5;129;01mnot\u001b[39;00m \u001b[38;5;28;01mNone\u001b[39;00m \u001b[38;5;129;01mor\u001b[39;00m yerr \u001b[38;5;129;01mis\u001b[39;00m \u001b[38;5;129;01mnot\u001b[39;00m \u001b[38;5;28;01mNone\u001b[39;00m:\n",
      "File \u001b[1;32mc:\\Users\\izza\\anaconda3\\Lib\\site-packages\\matplotlib\\axes\\_base.py:2379\u001b[0m, in \u001b[0;36m_AxesBase.add_patch\u001b[1;34m(self, p)\u001b[0m\n\u001b[0;32m   2377\u001b[0m \u001b[38;5;28;01mif\u001b[39;00m p\u001b[38;5;241m.\u001b[39mget_clip_path() \u001b[38;5;129;01mis\u001b[39;00m \u001b[38;5;28;01mNone\u001b[39;00m:\n\u001b[0;32m   2378\u001b[0m     p\u001b[38;5;241m.\u001b[39mset_clip_path(\u001b[38;5;28mself\u001b[39m\u001b[38;5;241m.\u001b[39mpatch)\n\u001b[1;32m-> 2379\u001b[0m \u001b[38;5;28mself\u001b[39m\u001b[38;5;241m.\u001b[39m_update_patch_limits(p)\n\u001b[0;32m   2380\u001b[0m \u001b[38;5;28mself\u001b[39m\u001b[38;5;241m.\u001b[39m_children\u001b[38;5;241m.\u001b[39mappend(p)\n\u001b[0;32m   2381\u001b[0m p\u001b[38;5;241m.\u001b[39m_remove_method \u001b[38;5;241m=\u001b[39m \u001b[38;5;28mself\u001b[39m\u001b[38;5;241m.\u001b[39m_children\u001b[38;5;241m.\u001b[39mremove\n",
      "File \u001b[1;32mc:\\Users\\izza\\anaconda3\\Lib\\site-packages\\matplotlib\\axes\\_base.py:2420\u001b[0m, in \u001b[0;36m_AxesBase._update_patch_limits\u001b[1;34m(self, patch)\u001b[0m\n\u001b[0;32m   2418\u001b[0m     \u001b[38;5;28;01mif\u001b[39;00m updatey \u001b[38;5;129;01mand\u001b[39;00m patch_trf \u001b[38;5;241m==\u001b[39m \u001b[38;5;28mself\u001b[39m\u001b[38;5;241m.\u001b[39mget_xaxis_transform():\n\u001b[0;32m   2419\u001b[0m         updatey \u001b[38;5;241m=\u001b[39m \u001b[38;5;28;01mFalse\u001b[39;00m\n\u001b[1;32m-> 2420\u001b[0m trf_to_data \u001b[38;5;241m=\u001b[39m patch_trf \u001b[38;5;241m-\u001b[39m \u001b[38;5;28mself\u001b[39m\u001b[38;5;241m.\u001b[39mtransData\n\u001b[0;32m   2421\u001b[0m xys \u001b[38;5;241m=\u001b[39m trf_to_data\u001b[38;5;241m.\u001b[39mtransform(vertices)\n\u001b[0;32m   2422\u001b[0m \u001b[38;5;28mself\u001b[39m\u001b[38;5;241m.\u001b[39mupdate_datalim(xys, updatex\u001b[38;5;241m=\u001b[39mupdatex, updatey\u001b[38;5;241m=\u001b[39mupdatey)\n",
      "File \u001b[1;32mc:\\Users\\izza\\anaconda3\\Lib\\site-packages\\matplotlib\\transforms.py:1454\u001b[0m, in \u001b[0;36mTransform.__sub__\u001b[1;34m(self, other)\u001b[0m\n\u001b[0;32m   1452\u001b[0m     \u001b[38;5;28;01mreturn\u001b[39;00m \u001b[38;5;28mNotImplemented\u001b[39m\n\u001b[0;32m   1453\u001b[0m \u001b[38;5;28;01mfor\u001b[39;00m remainder, sub_tree \u001b[38;5;129;01min\u001b[39;00m \u001b[38;5;28mself\u001b[39m\u001b[38;5;241m.\u001b[39m_iter_break_from_left_to_right():\n\u001b[1;32m-> 1454\u001b[0m     \u001b[38;5;28;01mif\u001b[39;00m sub_tree \u001b[38;5;241m==\u001b[39m other:\n\u001b[0;32m   1455\u001b[0m         \u001b[38;5;28;01mreturn\u001b[39;00m remainder\n\u001b[0;32m   1456\u001b[0m \u001b[38;5;28;01mfor\u001b[39;00m remainder, sub_tree \u001b[38;5;129;01min\u001b[39;00m other\u001b[38;5;241m.\u001b[39m_iter_break_from_left_to_right():\n",
      "File \u001b[1;32mc:\\Users\\izza\\anaconda3\\Lib\\site-packages\\matplotlib\\transforms.py:2401\u001b[0m, in \u001b[0;36mCompositeGenericTransform.__eq__\u001b[1;34m(self, other)\u001b[0m\n\u001b[0;32m   2399\u001b[0m \u001b[38;5;28;01mdef\u001b[39;00m \u001b[38;5;21m__eq__\u001b[39m(\u001b[38;5;28mself\u001b[39m, other):\n\u001b[0;32m   2400\u001b[0m     \u001b[38;5;28;01mif\u001b[39;00m \u001b[38;5;28misinstance\u001b[39m(other, (CompositeGenericTransform, CompositeAffine2D)):\n\u001b[1;32m-> 2401\u001b[0m         \u001b[38;5;28;01mreturn\u001b[39;00m \u001b[38;5;28mself\u001b[39m \u001b[38;5;129;01mis\u001b[39;00m other \u001b[38;5;129;01mor\u001b[39;00m (\u001b[38;5;28mself\u001b[39m\u001b[38;5;241m.\u001b[39m_a \u001b[38;5;241m==\u001b[39m other\u001b[38;5;241m.\u001b[39m_a\n\u001b[0;32m   2402\u001b[0m                                  \u001b[38;5;129;01mand\u001b[39;00m \u001b[38;5;28mself\u001b[39m\u001b[38;5;241m.\u001b[39m_b \u001b[38;5;241m==\u001b[39m other\u001b[38;5;241m.\u001b[39m_b)\n\u001b[0;32m   2403\u001b[0m     \u001b[38;5;28;01melse\u001b[39;00m:\n\u001b[0;32m   2404\u001b[0m         \u001b[38;5;28;01mreturn\u001b[39;00m \u001b[38;5;28;01mFalse\u001b[39;00m\n",
      "File \u001b[1;32mc:\\Users\\izza\\anaconda3\\Lib\\site-packages\\matplotlib\\transforms.py:1714\u001b[0m, in \u001b[0;36mTransformWrapper.__eq__\u001b[1;34m(self, other)\u001b[0m\n\u001b[0;32m   1713\u001b[0m \u001b[38;5;28;01mdef\u001b[39;00m \u001b[38;5;21m__eq__\u001b[39m(\u001b[38;5;28mself\u001b[39m, other):\n\u001b[1;32m-> 1714\u001b[0m     \u001b[38;5;28;01mreturn\u001b[39;00m \u001b[38;5;28mself\u001b[39m\u001b[38;5;241m.\u001b[39m_child\u001b[38;5;241m.\u001b[39m\u001b[38;5;21m__eq__\u001b[39m(other)\n",
      "File \u001b[1;32mc:\\Users\\izza\\anaconda3\\Lib\\site-packages\\matplotlib\\transforms.py:2173\u001b[0m, in \u001b[0;36m_BlendedMixin.__eq__\u001b[1;34m(self, other)\u001b[0m\n\u001b[0;32m   2171\u001b[0m \u001b[38;5;28;01mif\u001b[39;00m \u001b[38;5;28misinstance\u001b[39m(other, (BlendedAffine2D, BlendedGenericTransform)):\n\u001b[0;32m   2172\u001b[0m     \u001b[38;5;28;01mreturn\u001b[39;00m (\u001b[38;5;28mself\u001b[39m\u001b[38;5;241m.\u001b[39m_x \u001b[38;5;241m==\u001b[39m other\u001b[38;5;241m.\u001b[39m_x) \u001b[38;5;129;01mand\u001b[39;00m (\u001b[38;5;28mself\u001b[39m\u001b[38;5;241m.\u001b[39m_y \u001b[38;5;241m==\u001b[39m other\u001b[38;5;241m.\u001b[39m_y)\n\u001b[1;32m-> 2173\u001b[0m \u001b[38;5;28;01melif\u001b[39;00m \u001b[38;5;28mself\u001b[39m\u001b[38;5;241m.\u001b[39m_x \u001b[38;5;241m==\u001b[39m \u001b[38;5;28mself\u001b[39m\u001b[38;5;241m.\u001b[39m_y:\n\u001b[0;32m   2174\u001b[0m     \u001b[38;5;28;01mreturn\u001b[39;00m \u001b[38;5;28mself\u001b[39m\u001b[38;5;241m.\u001b[39m_x \u001b[38;5;241m==\u001b[39m other\n\u001b[0;32m   2175\u001b[0m \u001b[38;5;28;01melse\u001b[39;00m:\n",
      "File \u001b[1;32mc:\\Users\\izza\\anaconda3\\Lib\\site-packages\\matplotlib\\transforms.py:1782\u001b[0m, in \u001b[0;36mAffineBase.__eq__\u001b[1;34m(self, other)\u001b[0m\n\u001b[0;32m   1780\u001b[0m \u001b[38;5;28;01mdef\u001b[39;00m \u001b[38;5;21m__eq__\u001b[39m(\u001b[38;5;28mself\u001b[39m, other):\n\u001b[0;32m   1781\u001b[0m     \u001b[38;5;28;01mif\u001b[39;00m \u001b[38;5;28mgetattr\u001b[39m(other, \u001b[38;5;124m\"\u001b[39m\u001b[38;5;124mis_affine\u001b[39m\u001b[38;5;124m\"\u001b[39m, \u001b[38;5;28;01mFalse\u001b[39;00m) \u001b[38;5;129;01mand\u001b[39;00m \u001b[38;5;28mhasattr\u001b[39m(other, \u001b[38;5;124m\"\u001b[39m\u001b[38;5;124mget_matrix\u001b[39m\u001b[38;5;124m\"\u001b[39m):\n\u001b[1;32m-> 1782\u001b[0m         \u001b[38;5;28;01mreturn\u001b[39;00m np\u001b[38;5;241m.\u001b[39mall(\u001b[38;5;28mself\u001b[39m\u001b[38;5;241m.\u001b[39mget_matrix() \u001b[38;5;241m==\u001b[39m other\u001b[38;5;241m.\u001b[39mget_matrix())\n\u001b[0;32m   1783\u001b[0m     \u001b[38;5;28;01mreturn\u001b[39;00m \u001b[38;5;28mNotImplemented\u001b[39m\n",
      "File \u001b[1;32m<__array_function__ internals>:177\u001b[0m, in \u001b[0;36mall\u001b[1;34m(*args, **kwargs)\u001b[0m\n",
      "\u001b[1;31mKeyboardInterrupt\u001b[0m: "
     ]
    }
   ],
   "source": [
    "sns.displot(\n",
    "    data=df[\"Current Loan Amount\"],\n",
    "    color=\"pink\"\n",
    ")\n",
    "plt.title(\"Current Loan Amount\")    \n",
    "plt.show()"
   ]
  },
  {
   "cell_type": "markdown",
   "metadata": {},
   "source": [
    "# missing Values"
   ]
  },
  {
   "cell_type": "code",
   "execution_count": null,
   "metadata": {},
   "outputs": [],
   "source": [
    "# finding the missing values\n",
    "df.isnull().sum()"
   ]
  },
  {
   "cell_type": "markdown",
   "metadata": {},
   "source": [
    "## dealing with missing values for credit score"
   ]
  },
  {
   "cell_type": "code",
   "execution_count": null,
   "metadata": {},
   "outputs": [],
   "source": [
    "# histogram for credit score \n",
    "plt.figure(figsize=(10, 5))\n",
    "m = sns.displot(data=df[\"Credit Score\"],\n",
    "                kind=\"hist\",\n",
    "             kde=True,\n",
    "             color=\"hotpink\")\n",
    "plt.title(\"Credit Score Distribution\")\n",
    "\n",
    "\n",
    "def specs(x, **kwargs):\n",
    "    \"\"\"function to add mean and median lines to the histogram\"\"\"\n",
    "    plt.axvline(x.mean(), c='red', ls='-', lw=1) # the red line is the mean\n",
    "    plt.axvline(x.median(), c='blue', ls='--', lw=1) # the blue line is the median\n",
    "    plt.axvline(x.max(), c='green', ls='-', lw=1) # the green line is the max\n",
    "    plt.axvline(x.min(), c='yellow', ls='-', lw=1) # the yellow line is the min\n",
    "\n",
    "m.map(specs, \"Credit Score\")\n",
    "plt.show()"
   ]
  },
  {
   "cell_type": "code",
   "execution_count": null,
   "metadata": {},
   "outputs": [],
   "source": [
    "# "
   ]
  },
  {
   "cell_type": "code",
   "execution_count": null,
   "metadata": {},
   "outputs": [],
   "source": [
    "# acc to the above figure we can see that the data is right skewed\n",
    "# so we will use median to fill the missing values\n",
    "\n",
    "print(f\"Number of Credit Score missing values: {df['Credit Score'].isnull().sum()}\")\n",
    "\n",
    "median = df['Credit Score'].median()\n",
    "print(f\"Median of Credit Score: {median}\")\n",
    "\n",
    "df['Credit Score'] = df['Credit Score'].fillna(median)\n",
    "\n",
    "print(f\"Number of Credit Score missing values after filling: {df['Credit Score'].isnull().sum()}\\n\")\n",
    "\n",
    "print(df['Credit Score'].head(10))"
   ]
  },
  {
   "cell_type": "markdown",
   "metadata": {},
   "source": [
    "## dealing with missing values for Annual Income"
   ]
  },
  {
   "cell_type": "code",
   "execution_count": null,
   "metadata": {},
   "outputs": [],
   "source": [
    "df[\"Annual Income\"].describe()"
   ]
  },
  {
   "cell_type": "code",
   "execution_count": null,
   "metadata": {},
   "outputs": [],
   "source": [
    "# histogram for annual income\n",
    "# sns.set_theme(rc = {'figure.figsize':(20,5)})\n",
    "m = sns.displot(data=df[\"Annual Income\"],\n",
    "                kind=\"hist\",\n",
    "             kde=True,\n",
    "             color=\"hotpink\",\n",
    "             height=10,\n",
    "             )\n",
    "plt.title(\"Annual Income Distribution\")\n",
    "\n",
    "\n",
    "# red line is mean\n",
    "# blue line is median\n",
    "\n",
    "m.set(xlim=(0, 9000000)) # adjusting the x-axis limits based on the data's min and max\n",
    "m.map(specs, \"Annual Income\")\n",
    "plt.show()"
   ]
  },
  {
   "cell_type": "code",
   "execution_count": null,
   "metadata": {},
   "outputs": [],
   "source": [
    "# data is right skewed\n",
    "# so we will use median to fill the missing values\n",
    "\n",
    "print(f\"Number of Annual Income missing values: {df['Annual Income'].isnull().sum()}\")\n",
    "\n",
    "median = df['Annual Income'].median()\n",
    "print(f\"Median of Annual Income: {median}\")\n",
    "\n",
    "df['Annual Income'] = df['Annual Income'].fillna(median)\n",
    "\n",
    "print(f\"Number of Annual Income missing values after filling: {df['Annual Income'].isnull().sum()}\\n\")\n",
    "\n",
    "print(df['Annual Income'].head(10))"
   ]
  },
  {
   "cell_type": "markdown",
   "metadata": {},
   "source": [
    "## filling in missing values for tax lien"
   ]
  },
  {
   "cell_type": "code",
   "execution_count": null,
   "metadata": {},
   "outputs": [],
   "source": [
    "df[\"Tax Liens\"].describe()"
   ]
  },
  {
   "cell_type": "code",
   "execution_count": null,
   "metadata": {},
   "outputs": [],
   "source": [
    "# number of missing values\n",
    "print(f\"Number of Tax Liens missing values: {df['Tax Liens'].isnull().sum()}\")"
   ]
  },
  {
   "cell_type": "code",
   "execution_count": null,
   "metadata": {},
   "outputs": [],
   "source": [
    "mode = df['Tax Liens'].mode()\n",
    "print(f\"Mode of Tax Liens: {mode}\")\n",
    "# checking to see how many times the mode appears\n",
    "print(df['Tax Liens'].value_counts())\n"
   ]
  },
  {
   "cell_type": "code",
   "execution_count": null,
   "metadata": {},
   "outputs": [],
   "source": [
    "# histogram for annual income\n",
    "# sns.set_theme(rc = {'figure.figsize':(20,5)})\n",
    "m = sns.displot(data=df[\"Tax Liens\"],\n",
    "                kind=\"hist\",\n",
    "             kde=True,\n",
    "             color=\"hotpink\",\n",
    "             height=10,\n",
    "             )\n",
    "plt.title(\"Tax Liens Distribution\")\n",
    "\n",
    "\n",
    "# red line is mean\n",
    "# blue line is median\n",
    "# yellow is minimum\n",
    "# green is maximum\n",
    "\n",
    "# m.set(xlim=(0, 9000000)) # adjusting the x-axis limits based on the data's min and max\n",
    "m.map(specs, \"Tax Liens\")\n",
    "plt.show()"
   ]
  },
  {
   "cell_type": "code",
   "execution_count": null,
   "metadata": {},
   "outputs": [],
   "source": [
    "# since most of the values are 0, we will use mode to fill the missing values\n",
    "print(f\"Number of Tax Liens missing values: {df['Tax Liens'].isnull().sum()}\")\n",
    "df['Tax Liens'] = df['Tax Liens'].fillna(0)\n",
    "print(f\"Number of Tax Liens missing values after filling: {df['Tax Liens'].isnull().sum()}\\n\")"
   ]
  },
  {
   "cell_type": "markdown",
   "metadata": {},
   "source": [
    "## filling missing values for years in current job"
   ]
  },
  {
   "cell_type": "code",
   "execution_count": null,
   "metadata": {},
   "outputs": [],
   "source": [
    "df[\"Years in current job\"].describe()"
   ]
  },
  {
   "cell_type": "code",
   "execution_count": null,
   "metadata": {},
   "outputs": [],
   "source": [
    "df[\"Years in current job\"].value_counts()"
   ]
  },
  {
   "cell_type": "code",
   "execution_count": null,
   "metadata": {},
   "outputs": [],
   "source": [
    "# plotting histogram for years in current job\n",
    "m = sns.displot(data=df[\"Years in current job\"].sort_values(), # categorical data needs to be sorted (ordinal)\n",
    "                kind=\"hist\",\n",
    "             kde=True,\n",
    "             color=\"hotpink\",\n",
    "             height=10,\n",
    "             )\n",
    "plt.title(\"Years in current job Distribution\")\n",
    "plt.show()"
   ]
  },
  {
   "cell_type": "code",
   "execution_count": null,
   "metadata": {},
   "outputs": [],
   "source": [
    "# since most of the values are 10+ we will use mode to fill the missing values\n",
    "print(f\"Number of Years in current job missing values: {df['Years in current job'].isnull().sum()}\")\n",
    "mode = df['Years in current job'].mode()\n",
    "print(f\"Mode of Years in current job: {mode}\")\n",
    "df['Years in current job'] = df['Years in current job'].fillna('10+ years')\n",
    "print(f\"Number of Years in current job missing values after filling: {df['Years in current job'].isnull().sum()}\\n\")"
   ]
  },
  {
   "cell_type": "markdown",
   "metadata": {},
   "source": [
    "## filling missing values for months since last delinquent"
   ]
  },
  {
   "cell_type": "code",
   "execution_count": null,
   "metadata": {},
   "outputs": [],
   "source": [
    "df[\"Months since last delinquent\"].describe()"
   ]
  },
  {
   "cell_type": "code",
   "execution_count": null,
   "metadata": {},
   "outputs": [],
   "source": [
    "# histogram for months since last delinquent\n",
    "m = sns.displot(data=df[\"Months since last delinquent\"],\n",
    "                kind=\"hist\",\n",
    "             kde=True,\n",
    "             color=\"hotpink\",\n",
    "             height=10,\n",
    "             bins=50\n",
    "             )\n",
    "plt.title(\"Months Sincce Last Delinquent Distribution\")\n",
    "\n",
    "\n",
    "# red line is mean\n",
    "# blue line is median\n",
    "# yellow is minimum\n",
    "# green is maximum\n",
    "\n",
    "m.map(specs, \"Months since last delinquent\")\n",
    "plt.show()"
   ]
  },
  {
   "cell_type": "code",
   "execution_count": null,
   "metadata": {},
   "outputs": [],
   "source": [
    "# data is right skewed\n",
    "# so we will use median to fill the missing values\n",
    "print(f\"Number of Months since last delinquent missing values: {df['Months since last delinquent'].isnull().sum()}\")\n",
    "median = df['Months since last delinquent'].median()\n",
    "print(f\"Median of Months since last delinquent: {median}\")\n",
    "df['Months since last delinquent'] = df['Months since last delinquent'].fillna(median)\n",
    "print(f\"Number of Months since last delinquent missing values after filling: {df['Months since last delinquent'].isnull().sum()}\\n\")"
   ]
  },
  {
   "cell_type": "code",
   "execution_count": null,
   "metadata": {},
   "outputs": [],
   "source": [
    "# checking distribution after filling missing values\n",
    "m = sns.displot(data=df[\"Months since last delinquent\"],\n",
    "                kind=\"hist\",\n",
    "             kde=True,\n",
    "             color=\"hotpink\",\n",
    "             height=10,\n",
    "               bins=50\n",
    "             )\n",
    "plt.title(\"Months Sincce Last Delinquent Distribution\")\n",
    "\n",
    "\n",
    "# red line is mean\n",
    "# blue line is median\n",
    "# yellow is minimum\n",
    "# green is maximum\n",
    "\n",
    "m.map(specs, \"Months since last delinquent\")\n",
    "plt.show()"
   ]
  },
  {
   "cell_type": "markdown",
   "metadata": {},
   "source": [
    "## filling missing values for bankruptcies"
   ]
  },
  {
   "cell_type": "code",
   "execution_count": null,
   "metadata": {},
   "outputs": [],
   "source": [
    "df[\"Bankruptcies\"].describe()"
   ]
  },
  {
   "cell_type": "code",
   "execution_count": null,
   "metadata": {},
   "outputs": [],
   "source": [
    "# df[\"Bankruptcies\"].head(50)"
   ]
  },
  {
   "cell_type": "code",
   "execution_count": null,
   "metadata": {},
   "outputs": [],
   "source": [
    "df[\"Bankruptcies\"].value_counts()"
   ]
  },
  {
   "cell_type": "code",
   "execution_count": null,
   "metadata": {},
   "outputs": [],
   "source": [
    "df[\"Bankruptcies\"].isnull().sum()"
   ]
  },
  {
   "cell_type": "code",
   "execution_count": null,
   "metadata": {},
   "outputs": [],
   "source": [
    "# distribution of bankruptcies\n",
    "m = sns.displot(data=df[\"Bankruptcies\"],\n",
    "                kind=\"hist\",\n",
    "             kde=True,\n",
    "             color=\"hotpink\",\n",
    "             height=10,\n",
    "             )\n",
    "plt.title(\"Bankruptcies Distribution\")\n",
    "\n",
    "\n",
    "# red line is mean\n",
    "# blue line is median\n",
    "# yellow is minimum\n",
    "# green is maximum\n",
    "\n",
    "m.map(specs, \"Bankruptcies\")\n",
    "plt.show()"
   ]
  },
  {
   "cell_type": "code",
   "execution_count": null,
   "metadata": {},
   "outputs": [],
   "source": [
    "# checking mean, median and mode\n",
    "print(f\"Mean of Bankruptcies: {df['Bankruptcies'].mean()}\")\n",
    "print(f\"Median of Bankruptcies: {df['Bankruptcies'].median()}\")\n",
    "print(f\"Mode of Bankruptcies: {df['Bankruptcies'].mode()}\")"
   ]
  },
  {
   "cell_type": "code",
   "execution_count": null,
   "metadata": {},
   "outputs": [],
   "source": [
    "# we will use mode to fill the missing values (it is equal to median)\n",
    "# we wont use mean as values are integers\n",
    "print(f\"Number of Bankruptcies missing values: {df['Bankruptcies'].isnull().sum()}\")\n",
    "mode = df['Bankruptcies'].mode()\n",
    "print(f\"Mode of Bankruptcies: {mode}\")\n",
    "df['Bankruptcies'] = df['Bankruptcies'].fillna(0)\n",
    "print(f\"Number of Bankruptcies missing values after filling: {df['Bankruptcies'].isnull().sum()}\\n\")"
   ]
  },
  {
   "cell_type": "code",
   "execution_count": null,
   "metadata": {},
   "outputs": [],
   "source": [
    "# checking if any missing values are left\n",
    "df.isnull().sum()"
   ]
  },
  {
   "cell_type": "markdown",
   "metadata": {},
   "source": [
    "# finding and replacning outliers"
   ]
  },
  {
   "cell_type": "code",
   "execution_count": null,
   "metadata": {},
   "outputs": [],
   "source": [
    "df.shape"
   ]
  },
  {
   "cell_type": "code",
   "execution_count": null,
   "metadata": {},
   "outputs": [],
   "source": [
    "import pprint\n",
    "columns = df.select_dtypes(include=[\"int64\", \"float64\"]).columns\n",
    "pprint.pprint(list(columns))"
   ]
  },
  {
   "cell_type": "code",
   "execution_count": null,
   "metadata": {},
   "outputs": [],
   "source": [
    "# the above columns are the ones we need to find outliers of (since they are numerical)\n",
    "for column in columns:\n",
    "    plt.figure(figsize=(5, 10))\n",
    "    sns.boxplot(y = df[column], color=\"hotpink\")\n",
    "    plt.title(f\"{column} Boxplot\")\n",
    "    plt.show()"
   ]
  },
  {
   "cell_type": "markdown",
   "metadata": {},
   "source": [
    "looking at the above plots it is clear we need to fix outliers for\n",
    "- current credit card balance (with values greater than 0.5)\n",
    "- number of open accounts (with values greater than 50)\n",
    "- years of credit history (with values greater than 50)\n",
    "- annual income (with values greater than 8e+6)\n",
    "\n",
    "_the rest of the values are ignored because they are either discrete numerical values within a specific range, or the values are so close to the whiskers they can easily be not considered outliers_"
   ]
  },
  {
   "cell_type": "code",
   "execution_count": null,
   "metadata": {},
   "outputs": [],
   "source": [
    "# function to find the outliers\n",
    "def find_outliers(column):\n",
    "    \"\"\"function to find the outliers\"\"\"\n",
    "    q1 = df[column].quantile(0.25)\n",
    "    q3 = df[column].quantile(0.75)\n",
    "    iqr = q3 - q1\n",
    "    lower_bound = q1 - (1.5 * iqr)\n",
    "    upper_bound = q3 + (1.5 * iqr)\n",
    "    outliers = df[(df[column] < lower_bound) | (df[column] > upper_bound)]\n",
    "    return outliers"
   ]
  },
  {
   "cell_type": "code",
   "execution_count": null,
   "metadata": {},
   "outputs": [],
   "source": [
    "# finding the outliers for Current Credit Card Balance\n",
    "outliers = find_outliers(\"Current Credit Balance\")\n",
    "print(f\"Number of outliers for Current Credit Card Balance: {len(outliers)}\")\n",
    "\n",
    "# finding outliers with value greater than 0.5e+6\n",
    "outliers = df[df[\"Current Credit Balance\"] > 0.5e+6]\n",
    "print(f\"Number of outliers for Current Credit Card Balance greater than 0.5e+6: {len(outliers)}\")\n",
    "\n",
    "# replacing these outliers with the median\n",
    "median = df[\"Current Credit Balance\"].median()\n",
    "df.loc[df[\"Current Credit Balance\"] > 0.5e+6, \"Current Credit Balance\"] = median\n",
    "print(f\"Number of outliers for Current Credit Card Balance greater than 0.5e+6 after replacing: {len(df[df['Current Credit Balance'] > 0.5e+6])}\")\n"
   ]
  },
  {
   "cell_type": "code",
   "execution_count": null,
   "metadata": {},
   "outputs": [],
   "source": [
    "# finding the outliers for Number of Open Accounts\n",
    "outliers = find_outliers(\"Number of Open Accounts\")\n",
    "print(f\"Number of outliers for Number of Open Accounts: {len(outliers)}\")\n",
    "\n",
    "# finding outliers with value greater than 50\n",
    "outliers = df[df[\"Number of Open Accounts\"] > 50]\n",
    "print(f\"Number of outliers for Number of Open Accounts greater than 50: {len(outliers)}\")\n",
    "\n",
    "# replacing these outliers with the median\n",
    "median = df[\"Number of Open Accounts\"].median()\n",
    "df.loc[df[\"Number of Open Accounts\"] > 50, \"Number of Open Accounts\"] = median\n",
    "print(f\"Number of outliers for Number of Open Accounts greater than 50 after replacing: {len(df[df['Number of Open Accounts'] > 50])}\")\n"
   ]
  },
  {
   "cell_type": "code",
   "execution_count": null,
   "metadata": {},
   "outputs": [],
   "source": [
    "# finsing the outliers for Years of Credit History\n",
    "outliers = find_outliers(\"Years of Credit History\")\n",
    "print(f\"Number of outliers for Years of Credit History: {len(outliers)}\")\n",
    "\n",
    "# finding outliers with value greater than 55\n",
    "outliers = df[df[\"Years of Credit History\"] > 55]\n",
    "print(f\"Number of outliers for Years of Credit History greater than 55: {len(outliers)}\")\n",
    "\n",
    "# `replacing these outliers with the median\n",
    "median = df[\"Years of Credit History\"].median()\n",
    "df.loc[df[\"Years of Credit History\"] > 55, \"Years of Credit History\"] = median\n",
    "print(f\"Number of outliers for Years of Credit History greater than 55 after replacing: {len(df[df['Years of Credit History'] > 55])}\")\n"
   ]
  },
  {
   "cell_type": "code",
   "execution_count": null,
   "metadata": {},
   "outputs": [],
   "source": [
    "# finding the outliers for Annual Income\n",
    "outliers = find_outliers(\"Annual Income\")\n",
    "print(f\"Number of outliers for Annual Income: {len(outliers)}\")\n",
    "\n",
    "# finding outliers with value greater than 8+e6\n",
    "outliers = df[df[\"Annual Income\"] > 8e+6]\n",
    "print(f\"Number of outliers for Annual Income greater than 8e+6: {len(outliers)}\")\n",
    "\n",
    "# replacing these outliers with the median\n",
    "median = df[\"Annual Income\"].median()\n",
    "df.loc[df[\"Annual Income\"] > 8e+6, \"Annual Income\"] = median\n",
    "print(f\"Number of outliers for Annual Income greater than 8e+6 after replacing: {len(df[df['Annual Income'] > 8e+6])}\")"
   ]
  },
  {
   "cell_type": "markdown",
   "metadata": {},
   "source": [
    "## creating new categories"
   ]
  },
  {
   "cell_type": "code",
   "execution_count": null,
   "metadata": {},
   "outputs": [],
   "source": [
    "df[\"Years in current job\"].value_counts()"
   ]
  },
  {
   "cell_type": "code",
   "execution_count": null,
   "metadata": {},
   "outputs": [],
   "source": [
    "df[df[\"Years in current job\"] == \"< 1 year\"] = \"< year\" \n",
    "df[\"Years in current job\"].value_counts()"
   ]
  },
  {
   "cell_type": "code",
   "execution_count": null,
   "metadata": {},
   "outputs": [],
   "source": [
    "df[df[\"Years in current job\"] in [\"2 years\", \"3 years\", \"4 years\"]] = \"two to four years\" \n",
    "df[\"Years in current job\"].value_counts()"
   ]
  }
 ],
 "metadata": {
  "kernelspec": {
   "display_name": "Python 3",
   "language": "python",
   "name": "python3"
  },
  "language_info": {
   "codemirror_mode": {
    "name": "ipython",
    "version": 3
   },
   "file_extension": ".py",
   "mimetype": "text/x-python",
   "name": "python",
   "nbconvert_exporter": "python",
   "pygments_lexer": "ipython3",
   "version": "3.11.7"
  }
 },
 "nbformat": 4,
 "nbformat_minor": 2
}
